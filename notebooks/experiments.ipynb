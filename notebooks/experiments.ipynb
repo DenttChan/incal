{
 "cells": [
  {
   "cell_type": "code",
   "execution_count": 15,
   "metadata": {
    "collapsed": true
   },
   "outputs": [
    {
     "name": "stdout",
     "output_type": "stream",
     "text": [
      "synthetic_5_5_cnf_3_5_5_1000_0\nsynthetic_5_5_cnf_3_5_5_1000_0\nsynthetic_5_5_cnf_3_5_5_1000_0\nsynthetic_5_5_cnf_3_5_5_1000_0\nsynthetic_5_5_cnf_3_5_5_1000_0\nsynthetic_5_5_cnf_3_5_5_1000_0\nsynthetic_5_5_cnf_3_5_5_1000_0\nsynthetic_5_5_cnf_3_5_5_1000_0\nsynthetic_5_5_cnf_3_5_5_1000_0\nsynthetic_5_5_cnf_3_5_5_1000_0\n"
     ]
    }
   ],
   "source": [
    "from generator import import_synthetic_data_files\n",
    "\n",
    "data_sets = list(import_synthetic_data_files(\"data\", \"synthetic\"))\n",
    "\n",
    "for data_set in data_sets:\n",
    "    print(data_sets[0].synthetic_problem.theory_problem.name)"
   ]
  },
  {
   "cell_type": "code",
   "execution_count": 19,
   "metadata": {},
   "outputs": [
    {
     "name": "stdout",
     "output_type": "stream",
     "text": [
      "<k_cnf_smt_learner.KCnfSmtLearner object at 0x10b093150>\n<k_cnf_smt_learner.KCnfSmtLearner object at 0x10b25c1d0>\n<k_cnf_smt_learner.KCnfSmtLearner object at 0x10b093150>\n<k_cnf_smt_learner.KCnfSmtLearner object at 0x10b25c1d0>\n<k_cnf_smt_learner.KCnfSmtLearner object at 0x10b093150>\n<k_cnf_smt_learner.KCnfSmtLearner object at 0x10b25c1d0>\n<k_cnf_smt_learner.KCnfSmtLearner object at 0x10b093150>\n<k_cnf_smt_learner.KCnfSmtLearner object at 0x10b25c1d0>\n<k_cnf_smt_learner.KCnfSmtLearner object at 0x10b093150>\n<k_cnf_smt_learner.KCnfSmtLearner object at 0x10b25c1d0>\n"
     ]
    }
   ],
   "source": [
    "from k_cnf_smt_learner import KCnfSmtLearner\n",
    "\n",
    "for data_set in data_sets:\n",
    "    synthetic_problem = data_set.synthetic_problem\n",
    "    learner = KCnfSmtLearner(synthetic_problem.half_space_count, synthetic_problem.formula_count)\n",
    "    print(learner)\n"
   ]
  },
  {
   "cell_type": "code",
   "execution_count": null,
   "metadata": {},
   "outputs": [],
   "source": []
  }
 ],
 "metadata": {
  "kernelspec": {
   "display_name": "Python 2",
   "language": "python",
   "name": "python2"
  },
  "language_info": {
   "codemirror_mode": {
    "name": "ipython",
    "version": 2
   },
   "file_extension": ".py",
   "mimetype": "text/x-python",
   "name": "python",
   "nbconvert_exporter": "python",
   "pygments_lexer": "ipython2",
   "version": "2.7.6"
  }
 },
 "nbformat": 4,
 "nbformat_minor": 0
}
